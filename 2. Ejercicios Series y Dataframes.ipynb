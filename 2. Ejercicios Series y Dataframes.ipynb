{
 "cells": [
  {
   "cell_type": "markdown",
   "metadata": {},
   "source": [
    "#### **Ejercicio 1: Creación y manipulación de Series**\n",
    "1. Crea una Serie que contenga las ventas de una tienda de lunes a viernes. Utiliza las siguientes cantidades:\n",
    "   - Lunes: 100\n",
    "   - Martes: 150\n",
    "   - Miércoles: 200\n",
    "   - Jueves: 50\n",
    "   - Viernes: 300\n",
    "   \n",
    "2. Realiza las siguientes operaciones sobre la Serie:\n",
    "   - Accede al valor de las ventas del miércoles.\n",
    "   - Calcula el total de ventas de la semana.\n",
    "   - Filtra los días donde las ventas fueron mayores a 100."
   ]
  },
  {
   "cell_type": "code",
   "execution_count": 5,
   "metadata": {},
   "outputs": [
    {
     "name": "stdout",
     "output_type": "stream",
     "text": [
      "Lunes        100\n",
      "Martes       150\n",
      "Miércoles    200\n",
      "Jueves        50\n",
      "Viernes      300\n",
      "dtype: int64\n",
      "Total ventas del miércoles: 200\n",
      "Total ventas: 800\n",
      "Días donde las ventas fueron mayores a 100: \n",
      "Martes       150\n",
      "Miércoles    200\n",
      "Viernes      300\n",
      "dtype: int64\n"
     ]
    }
   ],
    "mi_serie = pd.Series({'Lunes': 100, 'Martes': 150, 'Miércoles': 200, 'Jueves': 50, 'Viernes': 300})\n",
    "print(mi_serie)\n",
    "\n",
    "print(f\"Total ventas del miércoles: {mi_serie['Miércoles']}\")\n",
    "\n",
    "print(f\"Total ventas: {mi_serie.sum()}\")\n",
    "\n",
    "print(f\"Días donde las ventas fueron mayores a 100: \\n{mi_serie[mi_serie > 100]}\")"
   ]
  },
  {
   "cell_type": "markdown",
   "metadata": {},
   "source": [
    "#### **Ejercicio 2: Creación y análisis de un DataFrame**\n",
    "1. Crea un DataFrame que contenga los nombres y edades de las siguientes personas:\n",
    "   - Ana, 23 años\n",
    "   - Luis, 35 años\n",
    "   - María, 29 años\n",
    "   \n",
    "2. Realiza las siguientes operaciones sobre el DataFrame:\n",
    "   - Accede a la columna de los nombres.\n",
    "   - Filtra las filas donde la edad sea mayor a 25.\n",
    "   - Agrega una nueva columna con los salarios de las personas (Ana: 30000, Luis: 45000, María: 35000)."
   ]
  },
  {
   "cell_type": "code",
   "execution_count": 2,
   "metadata": {},
   "outputs": [
    {
     "name": "stdout",
     "output_type": "stream",
     "text": [
      "   Edad Nombre\n",
      "0    23    Ana\n",
      "1    35   Luis\n",
      "2    29  María\n",
      "   Edad Nombre\n",
      "1    35   Luis\n",
      "2    29  María\n",
      "   Edad Nombre  Salario\n",
      "0    23    Ana    30000\n",
      "1    35   Luis    45000\n",
      "2    29  María    35000\n"
     ]
    }
   ],
   "source": [
    "data = [[23, 'Ana'], [35, 'Luis'], [29, 'María']]\n",
    "df = pd.DataFrame(data, columns=['Edad', 'Nombre'])\n",
    "print(df)\n",
    "\n",
    "print(df[df['Edad'] > 25])\n",
    "\n",
    "# Agregar una nueva columna\n",
    "df['Salario'] = [30000, 45000, 35000]\n",
    "print(df)"
   ]
  },
  {
   "cell_type": "markdown",
   "metadata": {},
   "source": [
    "#### **Ejercicio 3: Cálculos con DataFrames**\n",
    "1. Crea un DataFrame con información de ventas de productos en una tienda:\n",
    "   - Productos: \"Laptop\", \"Mouse\", \"Teclado\"\n",
    "   - Ventas: 30, 120, 75\n",
    "   - Precio por unidad: 1000, 50, 80\n",
    "\n",
    "2. Calcula:\n",
    "   - La venta total para cada producto (multiplicando el precio por unidad por las ventas).\n",
    "   - El total de ingresos para todos los productos."
   ]
  },
  {
   "cell_type": "code",
   "execution_count": 3,
   "metadata": {},
   "outputs": [
    {
     "name": "stdout",
     "output_type": "stream",
     "text": [
      "  Producto  Ventas  Precio\n",
      "0   Laptop      30    1000\n",
      "1    Mouse     120      50\n",
      "2  Teclado      75      80\n",
      "  Producto  Ventas  Precio  Total_Ventas\n",
      "0   Laptop      30    1000         30000\n",
      "1    Mouse     120      50          6000\n",
      "2  Teclado      75      80          6000\n",
      "Total de ingresos para todos los productos: 42000\n"
     ]
    }
   ],
   "source": [
    "data = {'Producto': ['Laptop', 'Mouse', 'Teclado'], 'Ventas': [30, 120, 75], 'Precio': [1000, 50, 80]}\n",
    "df = pd.DataFrame(data)\n",
    "print(df)\n",
    "\n",
    "df['Total_Ventas'] = df['Ventas'] * (df['Precio'])\n",
    "\n",
    "print(df)\n",
    "\n",
    "print(f\"Total de ingresos para todos los productos: {df['Total_Ventas'].sum()}\")\n"
   ]
  },
  {
   "cell_type": "markdown",
   "metadata": {},
   "source": [
    "#### **Ejercicio 4: Transformación y limpieza de datos en DataFrames**\n",
    "1. Crea un DataFrame con información de estudiantes y sus calificaciones en tres materias:\n",
    "   - Estudiantes: \"Ana\", \"Luis\", \"María\", \"Carlos\"\n",
    "   - Matemáticas: 90, 85, None, 78\n",
    "   - Ciencia: 88, 92, 85, None\n",
    "   - Historia: 75, None, 80, 90\n",
    "\n",
    "2. Realiza las siguientes operaciones:\n",
    "   - Rellena los valores faltantes con la media de cada columna.\n",
    "   - Renombra las columnas de las materias en inglés (Math, Science, History).\n",
    "   - Calcula la calificación promedio de cada estudiante."
   ]
  },
  {
   "cell_type": "code",
   "execution_count": 4,
   "metadata": {},
   "outputs": [
    {
     "name": "stdout",
     "output_type": "stream",
     "text": [
      "  Estudiantes  Matemáticas  Ciencias  Historia\n",
      "0         Ana         90.0      88.0      75.0\n",
      "1        Luis         85.0      92.0       NaN\n",
      "2       María          NaN      85.0      80.0\n",
      "3      Çarlos         78.0       NaN      90.0\n",
      "  Estudiantes       Math    Science    History  Calificacion_promedio\n",
      "0         Ana  90.000000  88.000000  75.000000              84.333333\n",
      "1        Luis  85.000000  92.000000  81.666667              86.222222\n",
      "2       María  84.333333  85.000000  80.000000              83.111111\n",
      "3      Çarlos  78.000000  88.333333  90.000000              85.444444\n"
     ]
    }
   ],
   "source": [
    "data = {'Estudiantes': ['Ana', 'Luis', 'María', 'Çarlos'], 'Matemáticas': [90, 85, None, 78], 'Ciencias': [88, 92, 85, None], 'Historia': [75, None, 80, 90]}\n",
    "df = pd.DataFrame(data)\n",
    "print(df)\n",
    "\n",
    "df.at[2, \"Matemáticas\"] = df['Matemáticas'].mean()\n",
    "df.at[3, \"Ciencias\"] = df['Ciencias'].mean()\n",
    "df.at[1, \"Historia\"] = df['Historia'].mean()\n",
    "\n",
    "df.rename(columns={'Matemáticas': 'Math', 'Ciencias': 'Science', 'Historia': 'History'}, inplace=True)\n",
    "\n",
    "df['Calificacion_promedio'] = (df['Math'] + df['Science'] + df['History']) / 3\n",
    "\n",
    "print(df)"
   ]
  }
 ],
 "metadata": {
  "kernelspec": {
   "display_name": "entorno-virtual",
   "language": "python",
   "name": "python3"
  },
  "language_info": {
   "codemirror_mode": {
    "name": "ipython",
    "version": 3
   },
   "file_extension": ".py",
   "mimetype": "text/x-python",
   "name": "python",
   "nbconvert_exporter": "python",
   "pygments_lexer": "ipython3",
   "version": "3.12.6"
  }
 },
 "nbformat": 4,
 "nbformat_minor": 2
}
