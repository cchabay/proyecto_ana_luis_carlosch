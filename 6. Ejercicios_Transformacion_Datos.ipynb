{
 "cells": [
  {
   "cell_type": "markdown",
   "metadata": {},
   "source": [
    "### **Ejercicio 1: Análisis de Rentabilidad de Productos**\n",
    "Supongamos que eres analista de datos en una empresa de comercio electrónico. Tienes un DataFrame que lista varios productos, sus costos, precios de venta y unidades vendidas durante el último mes. Realiza un análisis para identificar qué productos son más rentables.\n",
    "\n",
    "- Calcula la ganancia por producto y agrega una columna de rentabilidad\n",
    "- Ordena los productos por rentabilidad"
   ]
  },
  {
   "cell_type": "code",
   "execution_count": 2,
   "metadata": {},
   "outputs": [],
   "source": [
    "import pandas as pd\n",
    "\n",
    "data = {\n",
    "    'Producto': ['Computadora', 'Tablet', 'Smartphone', 'Auriculares', 'Cargador'],\n",
    "    'Costo': [500, 300, 200, 50, 20],\n",
    "    'Precio_venta': [1000, 500, 300, 100, 50],\n",
    "    'Unidades_vendidas': [30, 50, 70, 100, 150]\n",
    "}\n",
    "\n",
    "df_productos = pd.DataFrame(data)"
   ]
  },
  {
   "cell_type": "code",
   "execution_count": 3,
   "metadata": {},
   "outputs": [
    {
     "name": "stdout",
     "output_type": "stream",
     "text": [
      "      Producto  Costo  Precio_venta  Unidades_vendidas\n",
      "0  Computadora    500          1000                 30\n",
      "1       Tablet    300           500                 50\n",
      "2   Smartphone    200           300                 70\n",
      "3  Auriculares     50           100                100\n",
      "4     Cargador     20            50                150\n",
      "      Producto  Costo  Precio_venta  Unidades_vendidas  Rentabilidad\n",
      "0  Computadora    500          1000                 30    100.000000\n",
      "1       Tablet    300           500                 50     66.666667\n",
      "2   Smartphone    200           300                 70     50.000000\n",
      "3  Auriculares     50           100                100    100.000000\n",
      "4     Cargador     20            50                150    150.000000\n",
      "      Producto  Costo  Precio_venta  Unidades_vendidas  Rentabilidad\n",
      "4     Cargador     20            50                150    150.000000\n",
      "0  Computadora    500          1000                 30    100.000000\n",
      "3  Auriculares     50           100                100    100.000000\n",
      "1       Tablet    300           500                 50     66.666667\n",
      "2   Smartphone    200           300                 70     50.000000\n"
     ]
    }
   ],
   "source": [
    "print(df_productos)\n",
    "\n",
    "#df_productos['Ganancia'] = df_productos['Precio_venta'] - df_productos['Costo']\n",
    "\n",
    "#print(df_productos)\n",
    "\n",
    "df_productos['Rentabilidad'] = (df_productos['Precio_venta'] - df_productos['Costo']) / df_productos['Costo'] * 100\n",
    "\n",
    "print(df_productos)\n",
    "\n",
    "df_productos = df_productos.sort_values(by='Rentabilidad', ascending=False)\n",
    "\n",
    "print(df_productos)"
   ]
  },
  {
   "cell_type": "markdown",
   "metadata": {},
   "source": [
    "### **Ejercicio 2: Segmentación de Clientes por Edad y Consumo**\n",
    "Como analista de marketing en una cadena de tiendas, debes segmentar a los clientes en grupos de edad y analizar sus patrones de gasto para optimizar las campañas de marketing.\n",
    "\n",
    "- Agrupa los clientes por rangos de edad y calcula el gasto promedio (investiga el método `cut`)"
   ]
  },
  {
   "cell_type": "code",
   "execution_count": 4,
   "metadata": {},
   "outputs": [],
   "source": [
    "data_clientes = {\n",
    "    'Cliente': ['Ana', 'Luis', 'María', 'Carlos', 'Josefina'],\n",
    "    'Edad': [25, 35, 45, 55, 65],\n",
    "    'Gasto_mensual': [200, 400, 600, 800, 1000]\n",
    "}\n",
    "\n",
    "df_clientes = pd.DataFrame(data_clientes)"
   ]
  },
  {
   "cell_type": "code",
   "execution_count": 5,
   "metadata": {},
   "outputs": [
    {
     "name": "stdout",
     "output_type": "stream",
     "text": [
      "    Cliente  Edad  Gasto_mensual Rango_edad\n",
      "0       Ana    25            200      20-30\n",
      "1      Luis    35            400      30-40\n",
      "2     María    45            600      40-50\n",
      "3    Carlos    55            800      50-60\n",
      "4  Josefina    65           1000      60-70\n",
      "Rango_edad\n",
      "20-30     200.0\n",
      "30-40     400.0\n",
      "40-50     600.0\n",
      "50-60     800.0\n",
      "60-70    1000.0\n",
      "Name: Gasto_mensual, dtype: float64\n"
     ]
    },
    {
     "name": "stderr",
     "output_type": "stream",
     "text": [
      "C:\\Users\\cchab\\AppData\\Local\\Temp\\ipykernel_16408\\2278583433.py:9: FutureWarning: The default of observed=False is deprecated and will be changed to True in a future version of pandas. Pass observed=False to retain current behavior or observed=True to adopt the future default and silence this warning.\n",
      "  gasto_promedio_por_rango = df_clientes.groupby('Rango_edad')['Gasto_mensual'].mean()\n"
     ]
    }
   ],
   "source": [
    "# Definir los rangos de edad\n",
    "rangos = [20, 30, 40, 50, 60, 70]\n",
    "etiquetas = ['20-30', '30-40', '40-50', '50-60', '60-70']\n",
    "\n",
    "# Aplicar el método 'cut' para clasificar las edades en rangos\n",
    "df_clientes['Rango_edad'] = pd.cut(df_clientes['Edad'], bins=rangos, labels=etiquetas)\n",
    "\n",
    "# Agrupar por rango de edad y calcular el gasto promedio\n",
    "gasto_promedio_por_rango = df_clientes.groupby('Rango_edad')['Gasto_mensual'].mean()\n",
    "\n",
    "print(df_clientes)\n",
    "\n",
    "# Mostrar el resultado\n",
    "print(gasto_promedio_por_rango)"
   ]
  },
  {
   "cell_type": "markdown",
   "metadata": {},
   "source": [
    "### **Ejercicio 3: Optimización de Inventarios**\n",
    "El departamento de operaciones necesita tu ayuda para ajustar los niveles de inventario basados en las ventas anuales y la rotación de productos.\n",
    "\n",
    "- Calcula la tasa de rotación de inventario"
   ]
  },
  {
   "cell_type": "code",
   "execution_count": 6,
   "metadata": {},
   "outputs": [],
   "source": [
    "data_inventario = {\n",
    "    'Producto': ['Laptop', 'Mouse', 'Teclado', 'Monitor'],\n",
    "    'Inventario_actual': [200, 1500, 800, 150],\n",
    "    'Ventas_anuales': [600, 1800, 900, 300]\n",
    "}\n",
    "\n",
    "df_inventario = pd.DataFrame(data_inventario)"
   ]
  },
  {
   "cell_type": "code",
   "execution_count": 7,
   "metadata": {},
   "outputs": [
    {
     "name": "stdout",
     "output_type": "stream",
     "text": [
      "  Producto  Inventario_actual  Ventas_anuales  Tasa_rotacion\n",
      "0   Laptop                200             600          3.000\n",
      "1    Mouse               1500            1800          1.200\n",
      "2  Teclado                800             900          1.125\n",
      "3  Monitor                150             300          2.000\n"
     ]
    }
   ],
   "source": [
    "# Crear el dataframe\n",
    "df_inventario = pd.DataFrame(data_inventario)\n",
    "\n",
    "# Calcular la tasa de rotación de inventario\n",
    "df_inventario['Tasa_rotacion'] = df_inventario['Ventas_anuales'] / df_inventario['Inventario_actual']\n",
    "\n",
    "# Mostrar el dataframe con las tasas de rotación de inventario\n",
    "print(df_inventario[['Producto', 'Inventario_actual', 'Ventas_anuales', 'Tasa_rotacion']])"
   ]
  },
  {
   "cell_type": "markdown",
   "metadata": {},
   "source": [
    "### **Ejercicio 4: Evaluación de Campañas de Marketing**\n",
    "Se te ha proporcionado un DataFrame con los resultados de diferentes campañas de marketing en términos de alcance y conversiones. Analiza la eficacia de cada campaña para determinar cuál ha tenido el mejor rendimiento en términos de ROI (retorno de inversión)."
   ]
  },
  {
   "cell_type": "code",
   "execution_count": 9,
   "metadata": {},
   "outputs": [],
   "source": [
    "data_campañas = {\n",
    "    'Campaña': ['A', 'B', 'C', 'D'],\n",
    "    'Alcance': [1000, 3000, 2000, 5000],\n",
    "    'Conversiones': [50, 150, 100, 200],\n",
    "    'Costo': [500, 1500, 1000, 2500]\n",
    "}\n",
    "\n",
    "df_campañas = pd.DataFrame(data_campañas)"
   ]
  },
  {
   "cell_type": "code",
   "execution_count": 11,
   "metadata": {},
   "outputs": [
    {
     "name": "stdout",
     "output_type": "stream",
     "text": [
      "  Campaña  Ingresos  Costo  ROI\n",
      "0       A      5000    500  9.0\n",
      "1       B     15000   1500  9.0\n",
      "2       C     10000   1000  9.0\n",
      "3       D     20000   2500  7.0\n",
      "La campaña con mejor rendimiento es la campaña A con un ROI de 9.00\n"
     ]
    }
   ],
   "source": [
    "# Definir el ingreso por conversión\n",
    "ingreso_por_conversion = 100\n",
    "\n",
    "# Calcular los ingresos generados por cada campaña\n",
    "df_campañas['Ingresos'] = df_campañas['Conversiones'] * ingreso_por_conversion\n",
    "\n",
    "# Calcular el ROI usando la fórmula (Ingresos - Costo) / Costo\n",
    "df_campañas['ROI'] = (df_campañas['Ingresos'] - df_campañas['Costo']) / df_campañas['Costo']\n",
    "\n",
    "# Mostrar el dataframe con los resultados\n",
    "print(df_campañas[['Campaña', 'Ingresos', 'Costo', 'ROI']])\n",
    "\n",
    "# Determinar la campaña con mejor ROI\n",
    "mejor_campaña = df_campañas.loc[df_campañas['ROI'].idxmax()]\n",
    "\n",
    "print(f\"La campaña con mejor rendimiento es la campaña {mejor_campaña['Campaña']} con un ROI de {mejor_campaña['ROI']:.2f}\")\n"
   ]
  },
  {
   "cell_type": "markdown",
   "metadata": {},
   "source": [
    "### **Ejercicio 6 (Investigación): Uso del método `melt` en Pandas**\n",
    "\n",
    "**Investiga cómo se utiliza el método `melt` de pandas para transformar DataFrames de un formato ancho a uno largo.** Crea un DataFrame que represente ventas de varios productos en diferentes meses, utiliza `melt` para cambiar su estructura y analiza cómo podría ser útil este formato para comparaciones o visualizaciones posteriores."
   ]
  },
  {
   "cell_type": "code",
   "execution_count": 12,
   "metadata": {},
   "outputs": [],
   "source": [
    "data_ventas = {\n",
    "    'Producto': ['Laptop', 'Smartphone', 'Tablet'],\n",
    "    'Enero': [100, 150, 200],\n",
    "    'Febrero': [110, 120, 180]\n",
    "}\n",
    "\n",
    "df_ventas = pd.DataFrame(data_ventas)"
   ]
  },
  {
   "cell_type": "code",
   "execution_count": 13,
   "metadata": {},
   "outputs": [
    {
     "name": "stdout",
     "output_type": "stream",
     "text": [
      "DataFrame original:\n",
      "     Producto  Enero  Febrero\n",
      "0      Laptop    100      110\n",
      "1  Smartphone    150      120\n",
      "2      Tablet    200      180\n",
      "\n",
      "DataFrame transformado con melt:\n",
      "     Producto      Mes  Ventas\n",
      "0      Laptop    Enero     100\n",
      "1  Smartphone    Enero     150\n",
      "2      Tablet    Enero     200\n",
      "3      Laptop  Febrero     110\n",
      "4  Smartphone  Febrero     120\n",
      "5      Tablet  Febrero     180\n"
     ]
    }
   ],
   "source": [
    "print(\"DataFrame original:\")\n",
    "print(df_ventas)\n",
    "\n",
    "# Usar melt para cambiar la estructura\n",
    "df_ventas_melted = pd.melt(df_ventas, id_vars=['Producto'], \n",
    "                           var_name='Mes', value_name='Ventas')\n",
    "print(\"\\nDataFrame transformado con melt:\")\n",
    "print(df_ventas_melted)"
   ]
  },
  {
   "cell_type": "markdown",
   "metadata": {},
   "source": [
    "Utilidad del nuevo formato:\n",
    "\n",
    "- Comparaciones fáciles: Al tener todas las ventas en una sola columna, es más fácil comparar las ventas entre productos y meses utilizando herramientas como gráficos de barras, líneas o incluso tablas dinámicas.\n",
    "\n",
    "- Visualizaciones: Con bibliotecas como matplotlib o seaborn, el formato largo es más adecuado para crear gráficos como series temporales, donde cada producto puede representarse con una línea a lo largo de los meses.\n",
    "\n",
    "- Análisis flexible: Facilita cálculos agregados o comparaciones entre diferentes meses y productos, ya que todas las variables relevantes están organizadas en un formato más estándar para análisis y manipulación de datos."
   ]
  }
 ],
 "metadata": {
  "kernelspec": {
   "display_name": "curso-ine",
   "language": "python",
   "name": "python3"
  },
  "language_info": {
   "codemirror_mode": {
    "name": "ipython",
    "version": 3
   },
   "file_extension": ".py",
   "mimetype": "text/x-python",
   "name": "python",
   "nbconvert_exporter": "python",
   "pygments_lexer": "ipython3",
   "version": "3.12.6"
  }
 },
 "nbformat": 4,
 "nbformat_minor": 2
}
