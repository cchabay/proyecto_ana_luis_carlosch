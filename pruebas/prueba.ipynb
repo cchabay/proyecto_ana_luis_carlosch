{
 "cells": [
  {
   "cell_type": "code",
   "execution_count": 24,
   "metadata": {},
   "outputs": [
    {
     "name": "stdout",
     "output_type": "stream",
     "text": [
      "DEPTO  NOMDEPTO      \n",
      "1      MONTEVIDEO        160\n",
      "2      ARTIGAS            12\n",
      "3      CANELONES          81\n",
      "4      CERRO LARGO        10\n",
      "5      COLONIA            32\n",
      "6      DURAZNO             8\n",
      "7      FLORES              9\n",
      "8      FLORIDA            10\n",
      "9      LAVALLEJA          12\n",
      "10     MALDONADO          51\n",
      "11     PAYSANDU           15\n",
      "12     RIO NEGRO          14\n",
      "13     RIVERA             12\n",
      "14     ROCHA              19\n",
      "15     SALTO              12\n",
      "16     SAN JOSE           19\n",
      "17     SORIANO            20\n",
      "18     TACUAREMBO         23\n",
      "19     TREINTA Y TRES      7\n",
      "Name: Cant_Farmacias, dtype: int64\n"
     ]
    }
   ],
   "source": [
    "import pandas as pd\n",
    "\n",
    "data = pd.read_csv('buffer_farmacias_1_km.csv')\n",
    "\n",
    "df = data.copy()\n",
    "\n",
    "#print(df)\n",
    "\n",
    "#data2 = pd.read_csv('zonas_dato_poblacion_dato_buffer_farmacia.csv')\n",
    "\n",
    "#df2 = data2.copy()\n",
    "\n",
    "#print(df2)\n",
    "\n",
    "df['Cant_Farmacias'] = 1\n",
    "\n",
    "#farmacias_x_depto = df.groupby('DEPTO')['Cant_Farmacias'].sum()\n",
    "farmacias_x_depto = df.groupby(by = ['DEPTO', 'NOMDEPTO'])['Cant_Farmacias'].sum()\n",
    "\n",
    "print(farmacias_x_depto)"
   ]
  }
 ],
 "metadata": {
  "kernelspec": {
   "display_name": "entorno-virtual",
   "language": "python",
   "name": "python3"
  },
  "language_info": {
   "codemirror_mode": {
    "name": "ipython",
    "version": 3
   },
   "file_extension": ".py",
   "mimetype": "text/x-python",
   "name": "python",
   "nbconvert_exporter": "python",
   "pygments_lexer": "ipython3",
   "version": "3.12.6"
  }
 },
 "nbformat": 4,
 "nbformat_minor": 2
}
