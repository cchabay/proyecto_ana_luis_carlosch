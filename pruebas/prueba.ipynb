{
 "cells": [
  {
   "cell_type": "code",
   "execution_count": 49,
   "metadata": {},
   "outputs": [
    {
     "name": "stderr",
     "output_type": "stream",
     "text": [
      "C:\\Users\\cchabay\\AppData\\Local\\Temp\\ipykernel_8020\\3932327314.py:3: DtypeWarning: Columns (8,9,10) have mixed types. Specify dtype option on import or set low_memory=False.\n",
      "  data = pd.read_csv('interseccion_zonas_buffer.csv')\n"
     ]
    },
    {
     "name": "stdout",
     "output_type": "stream",
     "text": [
      "                NOMDIR\n",
      "NOMBDEPTO             \n",
      "ARTIGAS             12\n",
      "CANELONES           72\n",
      "CERRO LARGO          9\n",
      "COLONIA             36\n",
      "DURAZNO             11\n",
      "FLORES               9\n",
      "FLORIDA             15\n",
      "LAVALLEJA           13\n",
      "MALDONADO           48\n",
      "MONTEVIDEO         172\n",
      "PAYSANDU            15\n",
      "RIO NEGRO           16\n",
      "RIVERA              12\n",
      "ROCHA               19\n",
      "SALTO               12\n",
      "SAN JOSE            20\n",
      "SORIANO             21\n",
      "TACUAREMBO          23\n",
      "TREINTA Y TRES       9\n"
     ]
    },
    {
     "name": "stderr",
     "output_type": "stream",
     "text": [
      "C:\\Users\\cchabay\\AppData\\Local\\Temp\\ipykernel_8020\\3932327314.py:28: SettingWithCopyWarning: \n",
      "A value is trying to be set on a copy of a slice from a DataFrame.\n",
      "Try using .loc[row_indexer,col_indexer] = value instead\n",
      "\n",
      "See the caveats in the documentation: https://pandas.pydata.org/pandas-docs/stable/user_guide/indexing.html#returning-a-view-versus-a-copy\n",
      "  df_farmacias_depto['NOMDIR'] = df_farmacias_depto['NOMBRE'] + df_farmacias_depto['DIRECCION']\n",
      "C:\\Users\\cchabay\\AppData\\Local\\Temp\\ipykernel_8020\\3932327314.py:29: SettingWithCopyWarning: \n",
      "A value is trying to be set on a copy of a slice from a DataFrame\n",
      "\n",
      "See the caveats in the documentation: https://pandas.pydata.org/pandas-docs/stable/user_guide/indexing.html#returning-a-view-versus-a-copy\n",
      "  df_farmacias_depto.drop(columns=['NOMBRE', 'DIRECCION'], inplace=True)\n"
     ]
    }
   ],
   "source": [
    "import pandas as pd\n",
    "\n",
    "data = pd.read_csv('interseccion_zonas_buffer.csv')\n",
    "df = data.copy()\n",
    "\n",
    "# Convierte CODCOMP a string con 0 a la izquierda si departamento <= 9 \n",
    "df['CODCOMP'] = df['CODCOMP'].astype(str)\n",
    "df['CODCOMP'] = df['CODCOMP'].str.zfill(10)\n",
    "\n",
    "# Convierte CODLOC a string con 0 a la izquierda si departamento <= 9 \n",
    "df['CODLOC'] = df['CODLOC'].astype(str)\n",
    "df['CODLOC'] = df['CODLOC'].str.zfill(5)\n",
    "\n",
    "# Elimina las columnas fid, NOMLOC y CODCOMP_A\n",
    "df.drop(columns=['fid', 'NOMLOC', 'CODCOMP_A'], inplace=True)\n",
    "\n",
    "#total_poblacion_x_farmacia = df.groupby(by = ['NOMBRE', 'DIRECCION', 'x', 'y'])['_P_TOT'].sum()\n",
    "#print(total_poblacion_x_farmacia)\n",
    "\n",
    "# Se crea el dataframe df_poblacion_farmacia a partir de las columnas NOMBRE, DIRECCION, x, y, POBLACION\n",
    "df_poblacion_farmacia = df[['NOMBRE', 'DIRECCION', 'x', 'y', 'POBLACION']]\n",
    "df_poblacion_farmacia = df_poblacion_farmacia.groupby(by = ['NOMBRE', 'DIRECCION', 'x', 'y']).sum()\n",
    "#print(df_poblacion_farmacia)\n",
    "\n",
    "# Se crea el dataframe df_farmacias_depto a partir de las columnas NOMBDEPTO, NOMBRE, DIRECCION\n",
    "df_farmacias_depto = df[['NOMBDEPTO', 'NOMBRE', 'DIRECCION']]\n",
    "# Crea la columna NOMDIR con la concatenación de NOMBRE y DIRECCION de la farmacia\n",
    "df_farmacias_depto['NOMDIR'] = df_farmacias_depto['NOMBRE'] + df_farmacias_depto['DIRECCION']\n",
    "df_farmacias_depto.drop(columns=['NOMBRE', 'DIRECCION'], inplace=True)\n",
    "# Elimina filas duplicadas\n",
    "df_farmacias_depto = df_farmacias_depto.drop_duplicates()\n",
    "# Cuenta farmacias por nombre de departamento\n",
    "df_farmacias_depto = df_farmacias_depto.groupby(by = ['NOMBDEPTO']).count()\n",
    "print(df_farmacias_depto)\n",
    "df_farmacias_depto.to_csv('farmacias_departamento.csv')\n",
    "\n",
    "#df_poblacion_farmacia = df_poblacion_farmacia.groupby(by = ['NOMBRE', 'DIRECCION', 'x', 'y']).sum()\n",
    "\n",
    "#print(df_poblacion_farmacia)\n",
    "\n",
    "#df_tot_pob_farmacia.dtypes\n",
    "\n",
    "#print(df)\n",
    "\n",
    "#df['POB_1KM'] = df['_P_TOT']\n",
    "#df_x_farmacia = df.groupby(by = ['NOMBRE', 'DIRECCION', 'x', 'y'])['_P_TOT'].sum()\n",
    "#df_x_farmacia_sort = df_x_farmacia.sort_values(by='_P_TOT')\n",
    "#data = pd.read_csv('buffer_farmacias_1_km.csv')\n",
    "#df = data.copy()\n",
    "#print(df)\n",
    "#data2 = pd.read_csv('zonas_dato_poblacion_dato_buffer_farmacia_2.csv')\n",
    "#df2 = data2.copy()\n",
    "#print(df2)\n",
    "#df['Cant_Farmacias'] = 1\n",
    "#df2['Cant_Zonas'] = 1\n",
    "#df2['Cant_Localidades'] = 1\n",
    "#farmacias_x_depto = df.groupby('DEPTO')['Cant_Farmacias'].sum()\n",
    "#farmacias_x_depto = df.groupby(by = ['DEPTO', 'NOMDEPTO'])['Cant_Farmacias'].sum()\n",
    "#print(farmacias_x_depto)\n",
    "#farmacias_x_depto = df.groupby('DEPTO')['Cant_Farmacias'].sum()\n",
    "#zonas = df2.groupby(by = ['DEPTO_2', 'NOMDEPTO'])['Cant_Zonas'].sum()\n",
    "#localidades = df2.groupby(by = ['LOCALIDAD', 'NOMBLOC'])['_P_TOT'].sum()\n",
    "#print(localidades)\n",
    "#print(len(df))\n",
    "#total_poblacion_x_farmacia.dtypes\n",
    "#df_poblacion_farmacia.to_csv('poblacion_farmacia.csv')\n",
    "#df_farmacias_depto = df_farmacias_depto.sort_values(by='NOMDIR', ascending=False)"
   ]
  }
 ],
 "metadata": {
  "kernelspec": {
   "display_name": "entorno-virtual",
   "language": "python",
   "name": "python3"
  },
  "language_info": {
   "codemirror_mode": {
    "name": "ipython",
    "version": 3
   },
   "file_extension": ".py",
   "mimetype": "text/x-python",
   "name": "python",
   "nbconvert_exporter": "python",
   "pygments_lexer": "ipython3",
   "version": "3.12.7"
  }
 },
 "nbformat": 4,
 "nbformat_minor": 2
}
