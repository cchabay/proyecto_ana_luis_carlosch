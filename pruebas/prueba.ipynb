{
 "cells": [
  {
   "cell_type": "code",
   "execution_count": 10,
   "metadata": {},
   "outputs": [
    {
     "name": "stdout",
     "output_type": "stream",
     "text": [
      "DEPTO  NOMDEPTO      \n",
      "1      MONTEVIDEO        160\n",
      "2      ARTIGAS            12\n",
      "3      CANELONES          81\n",
      "4      CERRO LARGO        10\n",
      "5      COLONIA            32\n",
      "6      DURAZNO             8\n",
      "7      FLORES              9\n",
      "8      FLORIDA            10\n",
      "9      LAVALLEJA          12\n",
      "10     MALDONADO          51\n",
      "11     PAYSANDU           15\n",
      "12     RIO NEGRO          14\n",
      "13     RIVERA             12\n",
      "14     ROCHA              19\n",
      "15     SALTO              12\n",
      "16     SAN JOSE           19\n",
      "17     SORIANO            20\n",
      "18     TACUAREMBO         23\n",
      "19     TREINTA Y TRES      7\n",
      "Name: Cant_Farmacias, dtype: int64\n",
      "DEPTO_2  NOMDEPTO      \n",
      "1.0      MONTEVIDEO        44936\n",
      "2.0      ARTIGAS            2621\n",
      "3.0      CANELONES         14892\n",
      "4.0      CERRO LARGO        2645\n",
      "5.0      COLONIA            5563\n",
      "6.0      DURAZNO            2189\n",
      "7.0      FLORES             2723\n",
      "8.0      FLORIDA            1575\n",
      "9.0      LAVALLEJA          2568\n",
      "10.0     MALDONADO         11589\n",
      "11.0     PAYSANDU           4274\n",
      "12.0     RIO NEGRO          2973\n",
      "13.0     RIVERA             2447\n",
      "14.0     ROCHA              3638\n",
      "15.0     SALTO              2851\n",
      "16.0     SAN JOSE           3457\n",
      "17.0     SORIANO            4070\n",
      "18.0     TACUAREMBO         5840\n",
      "19.0     TREINTA Y TRES     1767\n",
      "Name: Cant_Zonas, dtype: int64\n"
     ]
    },
    {
     "name": "stderr",
     "output_type": "stream",
     "text": [
      "C:\\Users\\cchab\\AppData\\Local\\Temp\\ipykernel_33248\\2896275319.py:9: DtypeWarning: Columns (20,22,23,24) have mixed types. Specify dtype option on import or set low_memory=False.\n",
      "  data2 = pd.read_csv('zonas_dato_poblacion_dato_buffer_farmacia.csv')\n"
     ]
    }
   ],
   "source": [
    "import pandas as pd\n",
    "\n",
    "data = pd.read_csv('buffer_farmacias_1_km.csv')\n",
    "\n",
    "df = data.copy()\n",
    "\n",
    "#print(df)\n",
    "\n",
    "data2 = pd.read_csv('zonas_dato_poblacion_dato_buffer_farmacia.csv')\n",
    "\n",
    "df2 = data2.copy()\n",
    "\n",
    "#print(df2)\n",
    "\n",
    "df['Cant_Farmacias'] = 1\n",
    "\n",
    "#farmacias_x_depto = df.groupby('DEPTO')['Cant_Farmacias'].sum()\n",
    "farmacias_x_depto = df.groupby(by = ['DEPTO', 'NOMDEPTO'])['Cant_Farmacias'].sum()\n",
    "\n",
    "print(farmacias_x_depto)\n",
    "\n",
    "df2['Cant_Zonas'] = 1\n",
    "\n",
    "#farmacias_x_depto = df.groupby('DEPTO')['Cant_Farmacias'].sum()\n",
    "zonas = df2.groupby(by = ['DEPTO_2', 'NOMDEPTO'])['Cant_Zonas'].sum()\n",
    "\n",
    "print(zonas)\n"
   ]
  }
 ],
 "metadata": {
  "kernelspec": {
   "display_name": "entorno-virtual",
   "language": "python",
   "name": "python3"
  },
  "language_info": {
   "codemirror_mode": {
    "name": "ipython",
    "version": 3
   },
   "file_extension": ".py",
   "mimetype": "text/x-python",
   "name": "python",
   "nbconvert_exporter": "python",
   "pygments_lexer": "ipython3",
   "version": "3.12.6"
  }
 },
 "nbformat": 4,
 "nbformat_minor": 2
}
