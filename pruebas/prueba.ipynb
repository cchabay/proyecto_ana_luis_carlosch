{
 "cells": [
  {
   "cell_type": "code",
   "execution_count": 9,
   "metadata": {},
   "outputs": [
    {
     "name": "stdout",
     "output_type": "stream",
     "text": [
      "DEPTO  NOMDEPTO      \n",
      "1      MONTEVIDEO        160\n",
      "2      ARTIGAS            12\n",
      "3      CANELONES          81\n",
      "4      CERRO LARGO        10\n",
      "5      COLONIA            32\n",
      "6      DURAZNO             8\n",
      "7      FLORES              9\n",
      "8      FLORIDA            10\n",
      "9      LAVALLEJA          12\n",
      "10     MALDONADO          51\n",
      "11     PAYSANDU           15\n",
      "12     RIO NEGRO          14\n",
      "13     RIVERA             12\n",
      "14     ROCHA              19\n",
      "15     SALTO              12\n",
      "16     SAN JOSE           19\n",
      "17     SORIANO            20\n",
      "18     TACUAREMBO         23\n",
      "19     TREINTA Y TRES      7\n",
      "Name: Cant_Farmacias, dtype: int64\n"
     ]
    },
    {
     "name": "stderr",
     "output_type": "stream",
     "text": [
      "C:\\Users\\cchab\\AppData\\Local\\Temp\\ipykernel_33248\\520349260.py:9: DtypeWarning: Columns (20,22,23,24) have mixed types. Specify dtype option on import or set low_memory=False.\n",
      "  data2 = pd.read_csv('zonas_dato_poblacion_dato_buffer_farmacia.csv')\n"
     ]
    },
    {
     "ename": "NameError",
     "evalue": "name 'DEPTO_2' is not defined",
     "output_type": "error",
     "traceback": [
      "\u001b[1;31m---------------------------------------------------------------------------\u001b[0m",
      "\u001b[1;31mNameError\u001b[0m                                 Traceback (most recent call last)",
      "Cell \u001b[1;32mIn[9], line 27\u001b[0m\n\u001b[0;32m     22\u001b[0m df2[\u001b[38;5;124m'\u001b[39m\u001b[38;5;124mCant_Zonas\u001b[39m\u001b[38;5;124m'\u001b[39m] \u001b[38;5;241m=\u001b[39m \u001b[38;5;241m1\u001b[39m\n\u001b[0;32m     24\u001b[0m \u001b[38;5;66;03m#farmacias_x_depto = df.groupby('DEPTO')['Cant_Farmacias'].sum()\u001b[39;00m\n\u001b[0;32m     25\u001b[0m \u001b[38;5;66;03m#zonas = df2.groupby(by = ['DEPTO_2', 'NOMDEPTO'])['Cant_Zonas'].sum()\u001b[39;00m\n\u001b[1;32m---> 27\u001b[0m \u001b[38;5;28mprint\u001b[39m(df2[\u001b[43mDEPTO_2\u001b[49m \u001b[38;5;241m==\u001b[39m \u001b[38;5;124m\"\u001b[39m\u001b[38;5;124m03\u001b[39m\u001b[38;5;124m\"\u001b[39m][NOMDEPTO \u001b[38;5;241m==\u001b[39m \u001b[38;5;124m\"\u001b[39m\u001b[38;5;124mMONTEVIDEO\u001b[39m\u001b[38;5;124m\"\u001b[39m])\n",
      "\u001b[1;31mNameError\u001b[0m: name 'DEPTO_2' is not defined"
     ]
    }
   ],
   "source": [
    "import pandas as pd\n",
    "\n",
    "data = pd.read_csv('buffer_farmacias_1_km.csv')\n",
    "\n",
    "df = data.copy()\n",
    "\n",
    "#print(df)\n",
    "\n",
    "data2 = pd.read_csv('zonas_dato_poblacion_dato_buffer_farmacia.csv')\n",
    "\n",
    "df2 = data2.copy()\n",
    "\n",
    "#print(df2)\n",
    "\n",
    "df['Cant_Farmacias'] = 1\n",
    "\n",
    "#farmacias_x_depto = df.groupby('DEPTO')['Cant_Farmacias'].sum()\n",
    "farmacias_x_depto = df.groupby(by = ['DEPTO', 'NOMDEPTO'])['Cant_Farmacias'].sum()\n",
    "\n",
    "print(farmacias_x_depto)\n",
    "\n",
    "df2['Cant_Zonas'] = 1\n",
    "\n",
    "#farmacias_x_depto = df.groupby('DEPTO')['Cant_Farmacias'].sum()\n",
    "zonas = df2.groupby(by = ['DEPTO_2', 'NOMDEPTO'])['Cant_Zonas'].sum()\n",
    "\n",
    "print(zonas)\n"
   ]
  }
 ],
 "metadata": {
  "kernelspec": {
   "display_name": "entorno-virtual",
   "language": "python",
   "name": "python3"
  },
  "language_info": {
   "codemirror_mode": {
    "name": "ipython",
    "version": 3
   },
   "file_extension": ".py",
   "mimetype": "text/x-python",
   "name": "python",
   "nbconvert_exporter": "python",
   "pygments_lexer": "ipython3",
   "version": "3.12.6"
  }
 },
 "nbformat": 4,
 "nbformat_minor": 2
}
