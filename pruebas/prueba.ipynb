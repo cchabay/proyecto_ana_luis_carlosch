{
 "cells": [
  {
   "cell_type": "code",
   "execution_count": 55,
   "metadata": {},
   "outputs": [
    {
     "name": "stderr",
     "output_type": "stream",
     "text": [
      "C:\\Users\\cchabay\\AppData\\Local\\Temp\\ipykernel_17368\\23872751.py:3: DtypeWarning: Columns (8,9,10) have mixed types. Specify dtype option on import or set low_memory=False.\n",
      "  data = pd.read_csv('interseccion_zonas_buffer.csv')\n"
     ]
    },
    {
     "name": "stdout",
     "output_type": "stream",
     "text": [
      "NOMBRE                DIRECCION                             x              y           \n",
      "18 SAN JOSE           A. de Figueroa 600 e/ 18 de Julio     525932.023543  6.200118e+06    15969.0\n",
      "2212 NORTE            Inés Durán 657 e/ Carlos Mª Ramírez   509337.896202  6.291815e+06    12426.0\n",
      "25 DE MAYO - FLORIDA  19 de Junio 1195 esq. Gral F. Rivera  560609.350316  6.215780e+06     2056.0\n",
      "4 DE OCTUBRE          Luis A.de Herrera 456 e/ Artigas      526353.337394  6.199644e+06    17465.0\n",
      "626                   Ruta 87 esq. Abaroré                  606039.414020  6.151810e+06     8148.0\n",
      "                                                                                            ...   \n",
      "VIDAL                 Gral. Artigas 368                     491674.867770  6.242345e+06     1086.0\n",
      "YALALE VI             Giannattasio Km 21.000 M.121 S.18     592471.588289  6.144354e+06    10273.0\n",
      "YATAY                 Sarandí 414                           627292.921965  6.309679e+06     6070.0\n",
      "ZAFIRO                Bvar Rodó e/ Zorrilla de San Martín   425691.559931  6.292153e+06     2322.0\n",
      "ZAPICAN               Lavalleja 415                         729171.901085  6.295350e+06     4159.0\n",
      "Name: _P_TOT, Length: 511, dtype: float64\n"
     ]
    }
   ],
   "source": [
    "import pandas as pd\n",
    "\n",
    "data = pd.read_csv('interseccion_zonas_buffer.csv')\n",
    "df = data.copy()\n",
    "\n",
    "# Convierte CODCOMP a string con 0 a la izquierda si departamento <= 9 \n",
    "df['CODCOMP'] = df['CODCOMP'].astype(str)\n",
    "df['CODCOMP'] = df['CODCOMP'].str.zfill(10)\n",
    "\n",
    "# Convierte CODLOC a string con 0 a la izquierda si departamento <= 9 \n",
    "df['CODLOC'] = df['CODLOC'].astype(str)\n",
    "df['CODLOC'] = df['CODLOC'].str.zfill(5)\n",
    "\n",
    "# Elimina las columnas fid, NOMLOC y CODCOMP_A\n",
    "df.drop(columns=['fid', 'NOMLOC', 'CODCOMP_A'], inplace=True)\n",
    "\n",
    "#print(df)\n",
    "\n",
    "#df['POB_1KM'] = df['_P_TOT']\n",
    "\n",
    "#print(df)\n",
    "\n",
    "#df_x_farmacia = df.groupby(by = ['NOMBRE', 'DIRECCION', 'x', 'y'])['_P_TOT'].sum()\n",
    "total_poblacion_x_farmacia = df.groupby(by = ['NOMBRE', 'DIRECCION', 'x', 'y'])['_P_TOT'].sum()\n",
    "\n",
    "\n",
    "#df_x_farmacia_sort = df_x_farmacia.sort_values(by='_P_TOT')\n",
    "\n",
    "print(total_poblacion_x_farmacia)\n",
    "\n",
    "\n",
    "\n",
    "#data = pd.read_csv('buffer_farmacias_1_km.csv')\n",
    "\n",
    "#df = data.copy()\n",
    "\n",
    "#print(df)\n",
    "\n",
    "#data2 = pd.read_csv('zonas_dato_poblacion_dato_buffer_farmacia_2.csv')\n",
    "\n",
    "#df2 = data2.copy()\n",
    "\n",
    "#print(df2)\n",
    "\n",
    "#df['Cant_Farmacias'] = 1\n",
    "#df2['Cant_Zonas'] = 1\n",
    "#df2['Cant_Localidades'] = 1\n",
    "\n",
    "#farmacias_x_depto = df.groupby('DEPTO')['Cant_Farmacias'].sum()\n",
    "#farmacias_x_depto = df.groupby(by = ['DEPTO', 'NOMDEPTO'])['Cant_Farmacias'].sum()\n",
    "\n",
    "#print(farmacias_x_depto)\n",
    "\n",
    "#farmacias_x_depto = df.groupby('DEPTO')['Cant_Farmacias'].sum()\n",
    "#zonas = df2.groupby(by = ['DEPTO_2', 'NOMDEPTO'])['Cant_Zonas'].sum()\n",
    "#localidades = df2.groupby(by = ['LOCALIDAD', 'NOMBLOC'])['_P_TOT'].sum()\n",
    "\n",
    "#print(localidades)\n",
    "\n",
    "#print(len(df))\n"
   ]
  }
 ],
 "metadata": {
  "kernelspec": {
   "display_name": "entorno-virtual",
   "language": "python",
   "name": "python3"
  },
  "language_info": {
   "codemirror_mode": {
    "name": "ipython",
    "version": 3
   },
   "file_extension": ".py",
   "mimetype": "text/x-python",
   "name": "python",
   "nbconvert_exporter": "python",
   "pygments_lexer": "ipython3",
   "version": "3.12.7"
  }
 },
 "nbformat": 4,
 "nbformat_minor": 2
}
