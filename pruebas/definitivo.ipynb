{
 "cells": [
  {
   "cell_type": "markdown",
   "metadata": {},
   "source": [
    "Punto 1"
   ]
  },
  {
   "cell_type": "code",
   "execution_count": 23,
   "metadata": {},
   "outputs": [
    {
     "name": "stderr",
     "output_type": "stream",
     "text": [
      "C:\\Users\\cchabay\\AppData\\Local\\Temp\\ipykernel_11496\\1763446245.py:3: DtypeWarning: Columns (8,9,10) have mixed types. Specify dtype option on import or set low_memory=False.\n",
      "  data = pd.read_csv('interseccion_zonas_buffer.csv')\n"
     ]
    },
    {
     "name": "stdout",
     "output_type": "stream",
     "text": [
      "                NOMDIR\n",
      "NOMBDEPTO             \n",
      "ARTIGAS             12\n",
      "CANELONES           72\n",
      "CERRO LARGO          9\n",
      "COLONIA             36\n",
      "DURAZNO             11\n",
      "FLORES               9\n",
      "FLORIDA             15\n",
      "LAVALLEJA           13\n",
      "MALDONADO           48\n",
      "MONTEVIDEO         172\n",
      "PAYSANDU            15\n",
      "RIO NEGRO           16\n",
      "RIVERA              12\n",
      "ROCHA               19\n",
      "SALTO               12\n",
      "SAN JOSE            20\n",
      "SORIANO             21\n",
      "TACUAREMBO          23\n",
      "TREINTA Y TRES       9\n"
     ]
    },
    {
     "name": "stderr",
     "output_type": "stream",
     "text": [
      "C:\\Users\\cchabay\\AppData\\Local\\Temp\\ipykernel_11496\\1763446245.py:20: SettingWithCopyWarning: \n",
      "A value is trying to be set on a copy of a slice from a DataFrame.\n",
      "Try using .loc[row_indexer,col_indexer] = value instead\n",
      "\n",
      "See the caveats in the documentation: https://pandas.pydata.org/pandas-docs/stable/user_guide/indexing.html#returning-a-view-versus-a-copy\n",
      "  df_farmacias_depto['NOMDIR'] = df_farmacias_depto['NOMBRE'] + df_farmacias_depto['DIRECCION']\n",
      "C:\\Users\\cchabay\\AppData\\Local\\Temp\\ipykernel_11496\\1763446245.py:21: SettingWithCopyWarning: \n",
      "A value is trying to be set on a copy of a slice from a DataFrame\n",
      "\n",
      "See the caveats in the documentation: https://pandas.pydata.org/pandas-docs/stable/user_guide/indexing.html#returning-a-view-versus-a-copy\n",
      "  df_farmacias_depto.drop(columns=['NOMBRE', 'DIRECCION'], inplace=True)\n"
     ]
    }
   ],
   "source": [
    "import pandas as pd\n",
    "\n",
    "data = pd.read_csv('interseccion_zonas_buffer.csv')\n",
    "df = data.copy()\n",
    "\n",
    "# Convierte CODCOMP a string con 0 a la izquierda si departamento <= 9 \n",
    "df['CODCOMP_STR'] = (df['CODCOMP'].astype(str)).str.zfill(10)\n",
    "#df['CODCOMP'] = df['CODCOMP'].str.zfill(10)\n",
    "\n",
    "# Convierte CODLOC a string con 0 a la izquierda si departamento <= 9 \n",
    "df['CODLOC_STR'] = (df['CODLOC'].astype(str)).str.zfill(5)\n",
    "#df['CODLOC'] = df['CODLOC'].str.zfill(5)\n",
    "\n",
    "# Elimina las columnas fid, NOMLOC y CODCOMP_A\n",
    "df.drop(columns=['fid', 'NOMLOC', 'CODCOMP_A', 'CODCOMP', 'CODLOC'], inplace=True)\n",
    "\n",
    "# Se crea el dataframe df_farmacias_depto a partir de las columnas NOMBDEPTO, NOMBRE, DIRECCION\n",
    "df_farmacias_depto = df[['NOMBDEPTO', 'NOMBRE', 'DIRECCION']]\n",
    "# Crea la columna NOMDIR con la concatenación de NOMBRE y DIRECCION de la farmacia\n",
    "df_farmacias_depto['NOMDIR'] = df_farmacias_depto['NOMBRE'] + df_farmacias_depto['DIRECCION']\n",
    "df_farmacias_depto.drop(columns=['NOMBRE', 'DIRECCION'], inplace=True)\n",
    "# Elimina filas duplicadas\n",
    "df_farmacias_depto = df_farmacias_depto.drop_duplicates()\n",
    "# Cuenta farmacias por nombre de departamento\n",
    "df_farmacias_depto = df_farmacias_depto.groupby(by = ['NOMBDEPTO']).count()\n",
    "df_farmacias_depto.to_csv('farmacias_departamento.csv')\n",
    "print(df_farmacias_depto)"
   ]
  },
  {
   "cell_type": "markdown",
   "metadata": {},
   "source": [
    "Punto 2"
   ]
  },
  {
   "cell_type": "code",
   "execution_count": 40,
   "metadata": {},
   "outputs": [
    {
     "name": "stdout",
     "output_type": "stream",
     "text": [
      "11548339.0\n"
     ]
    }
   ],
   "source": [
    "# Se crea dataframe con poblacion x localidad\n",
    "\n",
    "# Convierte CODCOMP a string con 0 a la izquierda si departamento <= 9 \n",
    "#df_localidad_poblacion['CODCOMP'] = df_localidad_poblacion['CODCOMP'].astype(str)\n",
    "#df_localidad_poblacion['CODCOMP'] = df_localidad_poblacion['CODCOMP'].str.zfill(10)\n",
    "\n",
    "# Convierte CODLOC a string con 0 a la izquierda si departamento <= 9 \n",
    "#df_localidad_poblacion['CODLOC'] = df_localidad_poblacion['CODLOC'].astype(str)\n",
    "#df_localidad_poblacion['CODLOC'] = df_localidad_poblacion['CODLOC'].str.zfill(5)\n",
    "\n",
    "#df_farmacias_depto.drop(columns=['CODCOMP'], inplace=True)\n",
    "\n",
    "#df_localidad_poblacion = df[['CODCOMP_STR', 'CODLOC_STR', 'NOMBLOC', 'POBLACION']]\n",
    "df_localidad_poblacion = df[['CODCOMP_STR', 'POBLACION']]\n",
    "\n",
    "#df_localidad_poblacion = df_localidad_poblacion.groupby(by = ['CODCOMP_STR', 'CODLOC_STR', 'NOMBLOC']).sum()\n",
    "df_localidad_poblacion = df_localidad_poblacion.groupby(by = ['CODCOMP_STR']).sum()\n",
    "#df_localidad_poblacion = df_localidad_poblacion.sort_values(by='POBLACION', ascending=False)\n",
    "#print(df_localidad_poblacion)\n",
    "print(df_localidad_poblacion['POBLACION'].sum())\n",
    "\n",
    "df_localidad_poblacion.to_csv('localidad_poblacion.csv')\n",
    "#df_localidad_poblacion = df_localidad_poblacion.groupby(by = ['CODLOC', 'NOMBLOC']).sum()\n",
    "\n",
    "# Se crea el dataframe df_farmacias_localidad a partir de las columnas CODLOC, NOMB, POBLACION, NOMBRE, DIRECCION\n",
    "#df_farmacias_loc = df[['CODCOMP', 'CODLOC','NOMBLOC', 'POBLACION', 'NOMBRE', 'DIRECCION']]\n",
    "# Crea la columna NOMDIR con la concatenación de NOMBRE y DIRECCION de la farmacia\n",
    "#df_farmacias_loc['NOMDIR'] = df_farmacias_loc['NOMBRE'] + df_farmacias_loc['DIRECCION']\n",
    "\n",
    "#df_farmacias_loc.drop(columns=['NOMBRE', 'DIRECCION'], inplace=True)\n",
    "\n",
    "# Elimina filas duplicadas\n",
    "#df_farmacias_loc = df_farmacias_loc.drop_duplicates()\n",
    "\n",
    "#df_farmacias_loc = df_farmacias_loc.groupby(by = ['CODCOMP', 'CODLOC', 'NOMBLOC']).sum()\n",
    "#print(df_farmacias_loc)\n",
    "\n",
    "# Cuenta farmacias por localidad\n",
    "#df_farmacias_loc = df_farmacias_loc.groupby(by = ['CODLOC', 'NOMBLOC', 'POBLACION']).count()\n",
    "#df_farmacias_loc.to_csv('farmacias_localidad.csv')\n",
    "#print(df_farmacias_loc)"
   ]
  },
  {
   "cell_type": "markdown",
   "metadata": {},
   "source": [
    "Punto 3"
   ]
  },
  {
   "cell_type": "code",
   "execution_count": 33,
   "metadata": {},
   "outputs": [
    {
     "name": "stdout",
     "output_type": "stream",
     "text": [
      "                                                                                      POBLACION\n",
      "NOMBRE               DIRECCION                            x             y                      \n",
      "18 SAN JOSE          A. de Figueroa 600 e/ 18 de Julio    525932.023543 6.200118e+06    15969.0\n",
      "2212 NORTE           Inés Durán 657 e/ Carlos Mª Ramírez  509337.896202 6.291815e+06    12426.0\n",
      "25 DE MAYO - FLORIDA 19 de Junio 1195 esq. Gral F. Rivera 560609.350316 6.215780e+06     2056.0\n",
      "4 DE OCTUBRE         Luis A.de Herrera 456 e/ Artigas     526353.337394 6.199644e+06    17465.0\n",
      "626                  Ruta 87 esq. Abaroré                 606039.414020 6.151810e+06     8148.0\n",
      "...                                                                                         ...\n",
      "VIDAL                Gral. Artigas 368                    491674.867770 6.242345e+06     1086.0\n",
      "YALALE VI            Giannattasio Km 21.000 M.121 S.18    592471.588289 6.144354e+06    10273.0\n",
      "YATAY                Sarandí 414                          627292.921965 6.309679e+06     6070.0\n",
      "ZAFIRO               Bvar Rodó e/ Zorrilla de San Martín  425691.559931 6.292153e+06     2322.0\n",
      "ZAPICAN              Lavalleja 415                        729171.901085 6.295350e+06     4159.0\n",
      "\n",
      "[511 rows x 1 columns]\n"
     ]
    }
   ],
   "source": [
    "# Se crea el dataframe df_poblacion_farmacia a partir de las columnas NOMBRE, DIRECCION, x, y, POBLACION\n",
    "df_poblacion_farmacia = df[['NOMBRE', 'DIRECCION', 'x', 'y', 'POBLACION']]\n",
    "df_poblacion_farmacia = df_poblacion_farmacia.groupby(by = ['NOMBRE', 'DIRECCION', 'x', 'y']).sum()\n",
    "df_poblacion_farmacia.to_csv('poblacion_farmacia.csv')\n",
    "print(df_poblacion_farmacia)\n"
   ]
  }
 ],
 "metadata": {
  "kernelspec": {
   "display_name": "entorno-virtual",
   "language": "python",
   "name": "python3"
  },
  "language_info": {
   "codemirror_mode": {
    "name": "ipython",
    "version": 3
   },
   "file_extension": ".py",
   "mimetype": "text/x-python",
   "name": "python",
   "nbconvert_exporter": "python",
   "pygments_lexer": "ipython3",
   "version": "3.12.7"
  }
 },
 "nbformat": 4,
 "nbformat_minor": 2
}
