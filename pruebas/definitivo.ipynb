{
 "cells": [
  {
   "cell_type": "markdown",
   "metadata": {},
   "source": [
    "Punto 1"
   ]
  },
  {
   "cell_type": "code",
   "execution_count": 99,
   "metadata": {},
   "outputs": [
    {
     "name": "stderr",
     "output_type": "stream",
     "text": [
      "C:\\Users\\cchabay\\AppData\\Local\\Temp\\ipykernel_11496\\3375835547.py:3: DtypeWarning: Columns (8,9,10) have mixed types. Specify dtype option on import or set low_memory=False.\n",
      "  data = pd.read_csv('interseccion_zonas_buffer.csv')\n"
     ]
    },
    {
     "name": "stdout",
     "output_type": "stream",
     "text": [
      "                CANT_FARMACIAS\n",
      "NOMBDEPTO                     \n",
      "ARTIGAS                     12\n",
      "CANELONES                   72\n",
      "CERRO LARGO                  9\n",
      "COLONIA                     36\n",
      "DURAZNO                     11\n",
      "FLORES                       9\n",
      "FLORIDA                     15\n",
      "LAVALLEJA                   13\n",
      "MALDONADO                   48\n",
      "MONTEVIDEO                 172\n",
      "PAYSANDU                    15\n",
      "RIO NEGRO                   16\n",
      "RIVERA                      12\n",
      "ROCHA                       19\n",
      "SALTO                       12\n",
      "SAN JOSE                    20\n",
      "SORIANO                     21\n",
      "TACUAREMBO                  23\n",
      "TREINTA Y TRES               9\n"
     ]
    },
    {
     "name": "stderr",
     "output_type": "stream",
     "text": [
      "C:\\Users\\cchabay\\AppData\\Local\\Temp\\ipykernel_11496\\3375835547.py:20: SettingWithCopyWarning: \n",
      "A value is trying to be set on a copy of a slice from a DataFrame.\n",
      "Try using .loc[row_indexer,col_indexer] = value instead\n",
      "\n",
      "See the caveats in the documentation: https://pandas.pydata.org/pandas-docs/stable/user_guide/indexing.html#returning-a-view-versus-a-copy\n",
      "  df_farmacias_depto['CANT_FARMACIAS'] = df_farmacias_depto['NOMBRE'] + df_farmacias_depto['DIRECCION']\n",
      "C:\\Users\\cchabay\\AppData\\Local\\Temp\\ipykernel_11496\\3375835547.py:21: SettingWithCopyWarning: \n",
      "A value is trying to be set on a copy of a slice from a DataFrame\n",
      "\n",
      "See the caveats in the documentation: https://pandas.pydata.org/pandas-docs/stable/user_guide/indexing.html#returning-a-view-versus-a-copy\n",
      "  df_farmacias_depto.drop(columns=['NOMBRE', 'DIRECCION'], inplace=True)\n"
     ]
    }
   ],
   "source": [
    "import pandas as pd\n",
    "\n",
    "data = pd.read_csv('interseccion_zonas_buffer.csv')\n",
    "df = data.copy()\n",
    "\n",
    "# Convierte CODCOMP a string con 0 a la izquierda si departamento <= 9 \n",
    "df['CODCOMP_STR'] = (df['CODCOMP'].astype(str)).str.zfill(10)\n",
    "\n",
    "# Convierte CODLOC a string con 0 a la izquierda si departamento <= 9 \n",
    "df['CODLOC_STR'] = (df['CODLOC'].astype(str)).str.zfill(5)\n",
    "\n",
    "# Elimina las columnas fid, NOMLOC y CODCOMP_A\n",
    "df.drop(columns=['fid', 'NOMLOC', 'CODCOMP_A', 'CODCOMP', 'CODLOC'], inplace=True)\n",
    "\n",
    "# Se crea el dataframe df_farmacias_depto a partir de las columnas NOMBDEPTO, NOMBRE, DIRECCION\n",
    "df_farmacias_depto = df[['NOMBDEPTO', 'NOMBRE', 'DIRECCION']]\n",
    "# Crea la columna CANT_FARMACIAS con la concatenación de NOMBRE y DIRECCION de la farmacia\n",
    "df_farmacias_depto['CANT_FARMACIAS'] = df_farmacias_depto['NOMBRE'] + df_farmacias_depto['DIRECCION']\n",
    "df_farmacias_depto.drop(columns=['NOMBRE', 'DIRECCION'], inplace=True)\n",
    "# Elimina filas duplicadas\n",
    "df_farmacias_depto = df_farmacias_depto.drop_duplicates()\n",
    "# Cuenta farmacias por nombre de departamento\n",
    "df_farmacias_depto = df_farmacias_depto.groupby(by = ['NOMBDEPTO']).count()\n",
    "df_farmacias_depto.to_csv('farmacias_departamento.csv')\n",
    "print(df_farmacias_depto)"
   ]
  },
  {
   "cell_type": "markdown",
   "metadata": {},
   "source": [
    "Punto 2"
   ]
  },
  {
   "cell_type": "code",
   "execution_count": 116,
   "metadata": {},
   "outputs": [
    {
     "name": "stdout",
     "output_type": "stream",
     "text": [
      "    CODLOC_STR                     NOMBLOC  POBLACION  CANT_FARMACIAS\n",
      "46       03524              JOAQUIN SUAREZ     6570.0               0\n",
      "52       03530  FRACC. CNO. ANDALUZ Y R.84     9295.0               0\n",
      "71       03726                  LAS TOSCAS     3146.0               0\n",
      "77       03733            VILLA AEROPARQUE     4307.0               0\n",
      "124      03959                    NEPTUNIA     4774.0               0\n",
      "150      04521               FRAILE MUERTO     3168.0               0\n",
      "314      10821                CERRO PELADO     8177.0               0\n",
      "363      11522              NUEVO PAYSANDU     8578.0               0\n",
      "393      11951         CHACRAS DE PAYSANDU     3965.0               0\n",
      "433      13836                  LA PEDRERA     3363.0               0\n",
      "434      13837                     MANDUBI     6019.0               0\n",
      "    CODLOC_STR                        NOMBLOC  POBLACION  CANT_FARMACIAS\n",
      "5        02522                TOMAS GOMENSORO     2659.0               2\n",
      "6        02621                  BALTASAR BRUM     2531.0               1\n",
      "17       02831  PORT. DE HIERRO Y CAMPODONICO      323.0               1\n",
      "54       03622             ESTACION ATLANTIDA     2274.0               1\n",
      "55       03624                      CERRILLOS     2508.0               1\n",
      "..         ...                            ...        ...             ...\n",
      "569      17950             CHACRAS DE DOLORES     1961.0               4\n",
      "578      18722                         ANSINA     2712.0               1\n",
      "584      18828                     LAS TOSCAS     1142.0               2\n",
      "605      19521          SANTA CLARA DE OLIMAR     2341.0               1\n",
      "610      19790                    CERRO CHATO     1694.0               2\n",
      "\n",
      "[83 rows x 4 columns]\n"
     ]
    },
    {
     "name": "stderr",
     "output_type": "stream",
     "text": [
      "C:\\Users\\cchabay\\AppData\\Local\\Temp\\ipykernel_11496\\1880104137.py:13: SettingWithCopyWarning: \n",
      "A value is trying to be set on a copy of a slice from a DataFrame.\n",
      "Try using .loc[row_indexer,col_indexer] = value instead\n",
      "\n",
      "See the caveats in the documentation: https://pandas.pydata.org/pandas-docs/stable/user_guide/indexing.html#returning-a-view-versus-a-copy\n",
      "  df_localidad_farmacias['CANT_FARMACIAS'] = df_localidad_farmacias['NOMBRE'] + df_localidad_farmacias['DIRECCION']\n",
      "C:\\Users\\cchabay\\AppData\\Local\\Temp\\ipykernel_11496\\1880104137.py:15: SettingWithCopyWarning: \n",
      "A value is trying to be set on a copy of a slice from a DataFrame\n",
      "\n",
      "See the caveats in the documentation: https://pandas.pydata.org/pandas-docs/stable/user_guide/indexing.html#returning-a-view-versus-a-copy\n",
      "  df_localidad_farmacias.drop(columns=['NOMBRE', 'DIRECCION'], inplace=True)\n"
     ]
    }
   ],
   "source": [
    "# Se crea el dataframe df_localidad_poblacion con poblacion x localidad\n",
    "df_localidad_poblacion = df[['CODCOMP_STR', 'CODLOC_STR', 'NOMBLOC', 'POBLACION']]\n",
    "df_localidad_poblacion = df_localidad_poblacion.drop_duplicates()\n",
    "df_localidad_poblacion.drop(columns=['CODCOMP_STR'], inplace=True)\n",
    "df_localidad_poblacion = df_localidad_poblacion.groupby(by = ['CODLOC_STR', 'NOMBLOC']).sum()\n",
    "df_localidad_poblacion = df_localidad_poblacion.sort_values(by='CODLOC_STR')\n",
    "df_localidad_poblacion = df_localidad_poblacion.reset_index()\n",
    "#print(df_localidad_poblacion[])\n",
    "\n",
    "# Se crea el dataframe df_localidad_farmacias a partir de las columnas CODLOC, NOMBRE, DIRECCION\n",
    "df_localidad_farmacias = df[['CODLOC_STR', 'NOMBRE', 'DIRECCION']]\n",
    "# Crea la columna CANT_FARMACIAS con la concatenación de NOMBRE y DIRECCION de la farmacia\n",
    "df_localidad_farmacias['CANT_FARMACIAS'] = df_localidad_farmacias['NOMBRE'] + df_localidad_farmacias['DIRECCION']\n",
    "# Elimina columnas innecesarias\n",
    "df_localidad_farmacias.drop(columns=['NOMBRE', 'DIRECCION'], inplace=True)\n",
    "# Elimina filas duplicadas\n",
    "df_localidad_farmacias = df_localidad_farmacias.drop_duplicates()\n",
    "# Cuenta farmacias por Localidad\n",
    "df_localidad_farmacias = df_localidad_farmacias.groupby(by = ['CODLOC_STR']).count()\n",
    "df_localidad_farmacias = df_localidad_farmacias.sort_values(by='CODLOC_STR')\n",
    "df_localidad_farmacias = df_localidad_farmacias.reset_index()\n",
    "#print(df_localidad_farmacias)\n",
    "\n",
    "df_localidad_farmacias.drop(columns=['CODLOC_STR'], inplace=True)\n",
    "df_loc_pob_farm = pd.concat([df_localidad_poblacion, df_localidad_farmacias], axis = 1)\n",
    "print(df_loc_pob_farm.query('POBLACION > 3000 and CANT_FARMACIAS == 0'))\n",
    "df_loc_pob_farm.query('POBLACION > 3000 and CANT_FARMACIAS == 0').to_csv('loc_grandes_sin_farm.csv')\n",
    "print(df_loc_pob_farm.query('POBLACION < 3000 and CANT_FARMACIAS != 0'))\n",
    "df_loc_pob_farm.query('POBLACION < 3000 and CANT_FARMACIAS != 0').to_csv('loc_chicas_con_farm.csv')\n",
    "\n",
    "#print(df_localidad_poblacion)\n",
    "#df_localidad_poblacion.set_index('CODLOC_STR').join(df_localidad_farmacias.set_index('CODLOC_STR'))\n",
    "#df_loc_pob_farm = pd.merge(df_localidad_poblacion, df_localidad_farmacias, on='CODLOC_STR', how='inner')\n",
    "#print(df_loc_pob_farm)\n",
    "#print(df_localidad_farmacias['CANT_FARMACIAS'].sum())\n",
    "\n",
    "df_loc_pob_farm.to_csv('loc_pob_farm.csv')\n",
    "\n",
    "#df_localidad_poblacion = df_localidad_poblacion.groupby(by = ['CODLOC', 'NOMBLOC']).sum()\n",
    "\n",
    "# Se crea el dataframe df_farmacias_localidad a partir de las columnas CODLOC, NOMB, POBLACION, NOMBRE, DIRECCION\n",
    "#df_farmacias_loc = df[['CODCOMP', 'CODLOC','NOMBLOC', 'POBLACION', 'NOMBRE', 'DIRECCION']]\n",
    "# Crea la columna NOMDIR con la concatenación de NOMBRE y DIRECCION de la farmacia\n",
    "#df_farmacias_loc['NOMDIR'] = df_farmacias_loc['NOMBRE'] + df_farmacias_loc['DIRECCION']\n",
    "\n",
    "#df_farmacias_loc.drop(columns=['NOMBRE', 'DIRECCION'], inplace=True)\n",
    "\n",
    "# Elimina filas duplicadas\n",
    "#df_farmacias_loc = df_farmacias_loc.drop_duplicates()\n",
    "\n",
    "#df_farmacias_loc = df_farmacias_loc.groupby(by = ['CODCOMP', 'CODLOC', 'NOMBLOC']).sum()\n",
    "#print(df_farmacias_loc)\n",
    "\n",
    "# Cuenta farmacias por localidad\n",
    "#df_farmacias_loc = df_farmacias_loc.groupby(by = ['CODLOC', 'NOMBLOC', 'POBLACION']).count()\n",
    "#df_farmacias_loc.to_csv('farmacias_localidad.csv')\n",
    "#print(df_farmacias_loc)"
   ]
  },
  {
   "cell_type": "markdown",
   "metadata": {},
   "source": [
    "Punto 3"
   ]
  },
  {
   "cell_type": "code",
   "execution_count": null,
   "metadata": {},
   "outputs": [],
   "source": [
    "# Se crea el dataframe df_poblacion_farmacia a partir de las columnas NOMBRE, DIRECCION, x, y, POBLACION\n",
    "df_poblacion_farmacia = df[['NOMBRE', 'DIRECCION', 'x', 'y', 'POBLACION']]\n",
    "df_poblacion_farmacia = df_poblacion_farmacia.groupby(by = ['NOMBRE', 'DIRECCION', 'x', 'y']).sum()\n",
    "df_poblacion_farmacia.to_csv('poblacion_farmacia.csv')\n",
    "print(df_poblacion_farmacia)\n"
   ]
  }
 ],
 "metadata": {
  "kernelspec": {
   "display_name": "entorno-virtual",
   "language": "python",
   "name": "python3"
  },
  "language_info": {
   "codemirror_mode": {
    "name": "ipython",
    "version": 3
   },
   "file_extension": ".py",
   "mimetype": "text/x-python",
   "name": "python",
   "nbconvert_exporter": "python",
   "pygments_lexer": "ipython3",
   "version": "3.12.7"
  }
 },
 "nbformat": 4,
 "nbformat_minor": 2
}
